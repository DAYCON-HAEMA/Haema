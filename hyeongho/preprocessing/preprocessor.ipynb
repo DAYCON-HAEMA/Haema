{
 "cells": [
  {
   "cell_type": "code",
   "id": "initial_id",
   "metadata": {
    "collapsed": true,
    "ExecuteTime": {
     "end_time": "2025-05-05T07:22:31.705367Z",
     "start_time": "2025-05-05T07:22:31.166668Z"
    }
   },
   "source": "import pandas as pd",
   "outputs": [],
   "execution_count": 1
  },
  {
   "metadata": {
    "ExecuteTime": {
     "end_time": "2025-05-05T07:22:32.837645Z",
     "start_time": "2025-05-05T07:22:32.825141Z"
    }
   },
   "cell_type": "code",
   "source": [
    "\"\"\" mActivity 데이터를 하루 단위로 요약한 후 활동 비율 feature를 반환\"\"\"\n",
    "def process_m_activity(file_path: str) -> pd.DataFrame:\n",
    "    df = pd.read_parquet(file_path)\n",
    "    # timestamp에서 날짜만 추출하여 groupby 기준으로 사용\n",
    "    df['timestamp'] = pd.to_datetime(df['timestamp'])\n",
    "    df['date'] = df['timestamp'].dt.date\n",
    "\n",
    "    # 활동 종류별 개수를 비율로 변환\n",
    "    \"\"\"\n",
    "    m_activity의 횟수를 세서 subject, date 기준으로 정리\n",
    "    unstack()은 활동 종류를 컬럼으로 펼침\n",
    "    fill_value=0은 없는 활동에 대하여 0으로 채움\n",
    "    \"\"\"\n",
    "    activity_counts = df.groupby(['subject_id', 'date', 'm_activity']).size().unstack(fill_value=0)\n",
    "    \"\"\"비율로 정규화(비율이 개수보다 모델에 적합)\"\"\"\n",
    "    activity_ratio = activity_counts.div(activity_counts.sum(axis=1), axis=0).reset_index()\n",
    "\n",
    "    # 컬럼 이름 정리\n",
    "    activity_ratio.columns = ['subject_id', 'date'] + [f'activity_ratio_{col}' for col in activity_ratio.columns[2:]]\n",
    "\n",
    "    return activity_ratio"
   ],
   "id": "13c276dd1c528a52",
   "outputs": [],
   "execution_count": 2
  },
  {
   "metadata": {
    "ExecuteTime": {
     "end_time": "2025-05-05T07:22:35.919502Z",
     "start_time": "2025-05-05T07:22:35.487498Z"
    }
   },
   "cell_type": "code",
   "source": [
    "activity_df = process_m_activity(\"../data/ch2025_mActivity.parquet\")\n",
    "activity_df.head()"
   ],
   "id": "2575109cbf8957f0",
   "outputs": [
    {
     "data": {
      "text/plain": [
       "  subject_id        date  activity_ratio_0  activity_ratio_1  \\\n",
       "0       id01  2024-06-26          0.125176          0.001406   \n",
       "1       id01  2024-06-27          0.146528          0.000000   \n",
       "2       id01  2024-06-28          0.111806          0.000694   \n",
       "3       id01  2024-06-29          0.065972          0.000000   \n",
       "4       id01  2024-06-30          0.138194          0.000000   \n",
       "\n",
       "   activity_ratio_3  activity_ratio_4  activity_ratio_7  activity_ratio_8  \n",
       "0          0.672293          0.157525          0.043601               0.0  \n",
       "1          0.611111          0.220833          0.021528               0.0  \n",
       "2          0.861806          0.000694          0.025000               0.0  \n",
       "3          0.916667          0.000000          0.017361               0.0  \n",
       "4          0.853472          0.000000          0.008333               0.0  "
      ],
      "text/html": [
       "<div>\n",
       "<style scoped>\n",
       "    .dataframe tbody tr th:only-of-type {\n",
       "        vertical-align: middle;\n",
       "    }\n",
       "\n",
       "    .dataframe tbody tr th {\n",
       "        vertical-align: top;\n",
       "    }\n",
       "\n",
       "    .dataframe thead th {\n",
       "        text-align: right;\n",
       "    }\n",
       "</style>\n",
       "<table border=\"1\" class=\"dataframe\">\n",
       "  <thead>\n",
       "    <tr style=\"text-align: right;\">\n",
       "      <th></th>\n",
       "      <th>subject_id</th>\n",
       "      <th>date</th>\n",
       "      <th>activity_ratio_0</th>\n",
       "      <th>activity_ratio_1</th>\n",
       "      <th>activity_ratio_3</th>\n",
       "      <th>activity_ratio_4</th>\n",
       "      <th>activity_ratio_7</th>\n",
       "      <th>activity_ratio_8</th>\n",
       "    </tr>\n",
       "  </thead>\n",
       "  <tbody>\n",
       "    <tr>\n",
       "      <th>0</th>\n",
       "      <td>id01</td>\n",
       "      <td>2024-06-26</td>\n",
       "      <td>0.125176</td>\n",
       "      <td>0.001406</td>\n",
       "      <td>0.672293</td>\n",
       "      <td>0.157525</td>\n",
       "      <td>0.043601</td>\n",
       "      <td>0.0</td>\n",
       "    </tr>\n",
       "    <tr>\n",
       "      <th>1</th>\n",
       "      <td>id01</td>\n",
       "      <td>2024-06-27</td>\n",
       "      <td>0.146528</td>\n",
       "      <td>0.000000</td>\n",
       "      <td>0.611111</td>\n",
       "      <td>0.220833</td>\n",
       "      <td>0.021528</td>\n",
       "      <td>0.0</td>\n",
       "    </tr>\n",
       "    <tr>\n",
       "      <th>2</th>\n",
       "      <td>id01</td>\n",
       "      <td>2024-06-28</td>\n",
       "      <td>0.111806</td>\n",
       "      <td>0.000694</td>\n",
       "      <td>0.861806</td>\n",
       "      <td>0.000694</td>\n",
       "      <td>0.025000</td>\n",
       "      <td>0.0</td>\n",
       "    </tr>\n",
       "    <tr>\n",
       "      <th>3</th>\n",
       "      <td>id01</td>\n",
       "      <td>2024-06-29</td>\n",
       "      <td>0.065972</td>\n",
       "      <td>0.000000</td>\n",
       "      <td>0.916667</td>\n",
       "      <td>0.000000</td>\n",
       "      <td>0.017361</td>\n",
       "      <td>0.0</td>\n",
       "    </tr>\n",
       "    <tr>\n",
       "      <th>4</th>\n",
       "      <td>id01</td>\n",
       "      <td>2024-06-30</td>\n",
       "      <td>0.138194</td>\n",
       "      <td>0.000000</td>\n",
       "      <td>0.853472</td>\n",
       "      <td>0.000000</td>\n",
       "      <td>0.008333</td>\n",
       "      <td>0.0</td>\n",
       "    </tr>\n",
       "  </tbody>\n",
       "</table>\n",
       "</div>"
      ]
     },
     "execution_count": 3,
     "metadata": {},
     "output_type": "execute_result"
    }
   ],
   "execution_count": 3
  }
 ],
 "metadata": {
  "kernelspec": {
   "display_name": "Python 3",
   "language": "python",
   "name": "python3"
  },
  "language_info": {
   "codemirror_mode": {
    "name": "ipython",
    "version": 2
   },
   "file_extension": ".py",
   "mimetype": "text/x-python",
   "name": "python",
   "nbconvert_exporter": "python",
   "pygments_lexer": "ipython2",
   "version": "2.7.6"
  }
 },
 "nbformat": 4,
 "nbformat_minor": 5
}
